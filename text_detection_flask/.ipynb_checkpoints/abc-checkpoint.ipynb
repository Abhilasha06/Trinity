{
 "cells": [
  {
   "cell_type": "code",
   "execution_count": null,
   "metadata": {},
   "outputs": [
    {
     "name": "stdout",
     "output_type": "stream",
     "text": [
      " * Serving Flask app \"__main__\" (lazy loading)\n",
      " * Environment: production\n",
      "   WARNING: Do not use the development server in a production environment.\n",
      "   Use a production WSGI server instead.\n",
      " * Debug mode: off\n"
     ]
    },
    {
     "name": "stderr",
     "output_type": "stream",
     "text": [
      " * Running on http://127.0.0.1:5000/ (Press CTRL+C to quit)\n",
      "127.0.0.1 - - [19/Oct/2019 08:02:04] \"\u001b[37mGET / HTTP/1.1\u001b[0m\" 200 -\n",
      "127.0.0.1 - - [19/Oct/2019 08:02:18] \"\u001b[37mGET / HTTP/1.1\u001b[0m\" 200 -\n",
      "127.0.0.1 - - [19/Oct/2019 08:02:19] \"\u001b[33mGET /favicon.ico HTTP/1.1\u001b[0m\" 404 -\n"
     ]
    },
    {
     "name": "stdout",
     "output_type": "stream",
     "text": [
      "text1.jpg\n",
      "C://Users//Abhilasha//Desktop//text1.jpg\n",
      "Trinity\n",
      "\n",
      "trinity\n"
     ]
    },
    {
     "name": "stderr",
     "output_type": "stream",
     "text": [
      "127.0.0.1 - - [19/Oct/2019 08:02:36] \"\u001b[37mPOST / HTTP/1.1\u001b[0m\" 200 -\n",
      "127.0.0.1 - - [19/Oct/2019 08:02:45] \"\u001b[37mGET / HTTP/1.1\u001b[0m\" 200 -\n"
     ]
    },
    {
     "name": "stdout",
     "output_type": "stream",
     "text": [
      "text3.jpg\n",
      "C://Users//Abhilasha//Desktop//text3.jpg\n"
     ]
    },
    {
     "name": "stderr",
     "output_type": "stream",
     "text": [
      "127.0.0.1 - - [19/Oct/2019 08:03:04] \"\u001b[37mPOST / HTTP/1.1\u001b[0m\" 200 -\n"
     ]
    },
    {
     "name": "stdout",
     "output_type": "stream",
     "text": [
      "SIRLS\n",
      "\n",
      "HOSTEL\n",
      "\n",
      "on\n",
      "\n",
      "a NEE DOV AR IN! i,\n",
      "\n",
      "girls hostel on a nee do ar in i\n"
     ]
    }
   ],
   "source": [
    "from flask import Flask\n",
    "from flask import request\n",
    "from flask import render_template\n",
    "import numpy as np\n",
    "import cv2\n",
    "import re\n",
    "from textblob import TextBlob\n",
    "from imutils.object_detection import non_max_suppression\n",
    "import pytesseract\n",
    "from matplotlib import pyplot as plt\n",
    "\n",
    "app = Flask(__name__)\n",
    "@app.route('/')\n",
    "def my_form():\n",
    "    return render_template(\"my_form.html\")\n",
    "@app.route('/', methods=['POST'])\n",
    "def my_form_post():\n",
    "    st=[]\n",
    "    data1 = request.form['file']\n",
    "    print(data1)\n",
    "    \n",
    "    imagepath = \"C://Users//Abhilasha//Desktop//\"+data1\n",
    "    print(imagepath)\n",
    "\n",
    "    image = cv2.imread(imagepath)\n",
    "\n",
    "\n",
    "    gray = cv2.cvtColor(image, cv2.COLOR_BGR2GRAY)\n",
    "\n",
    "    orig = gray.copy()\n",
    "    (origH, origW) = image.shape[:2]\n",
    "\n",
    "    (newW, newH) = (640,640)\n",
    "\n",
    "    rW = origW / float(newW)\n",
    "    rH = origH / float(newH)\n",
    "\n",
    "    image = cv2.resize(image, (newW, newH))\n",
    "    (H, W) = image.shape[:2]\n",
    "\n",
    "    blob = cv2.dnn.blobFromImage(image, 1.0, (W, H),\n",
    "        (123.68, 116.78, 103.94), swapRB=True, crop=False)\n",
    "\n",
    "    net = cv2.dnn.readNet(r'C:\\\\Users\\\\Abhilasha\\\\final_hackabit1\\\\frozen_east_text_detection.pb')\n",
    "\n",
    " \n",
    "    layerNames = [\n",
    "        \"feature_fusion/Conv_7/Sigmoid\",\n",
    "        \"feature_fusion/concat_3\"]\n",
    "    net.setInput(blob)\n",
    "    (scores, geometry) = net.forward(layerNames)\n",
    "    def predictions(prob_score, geo):\n",
    "        (numR, numC) = prob_score.shape[2:4]\n",
    "        boxes = []\n",
    "        confidence_val = []\n",
    "\n",
    "        for y in range(0, numR):\n",
    "            scoresData = prob_score[0, 0, y]\n",
    "            x0 = geo[0, 0, y]\n",
    "            x1 = geo[0, 1, y]\n",
    "            x2 = geo[0, 2, y]\n",
    "            x3 = geo[0, 3, y]\n",
    "            anglesData = geo[0, 4, y]\n",
    "\n",
    "            for i in range(0, numC):\n",
    "                if scoresData[i] < 0.5:\n",
    "                    continue\n",
    "\n",
    "                (offX, offY) = (i * 4.0, y * 4.0)\n",
    "\n",
    "                angle = anglesData[i]\n",
    "                cos = np.cos(angle)\n",
    "                sin = np.sin(angle)\n",
    "\n",
    "                h = x0[i] + x2[i]\n",
    "                w = x1[i] + x3[i]\n",
    "\n",
    "                endX = int(offX + (cos * x1[i]) + (sin * x2[i]))\n",
    "                endY = int(offY - (sin * x1[i]) + (cos * x2[i]))\n",
    "                startX = int(endX - w)\n",
    "                startY = int(endY - h)\n",
    "\n",
    "                boxes.append((startX, startY, endX, endY))\n",
    "                confidence_val.append(scoresData[i])\n",
    "\n",
    "        return (boxes, confidence_val)\n",
    "    (boxes, confidence_val) = predictions(scores, geometry)\n",
    "    boxes = non_max_suppression(np.array(boxes), probs=confidence_val)\n",
    "    results = []\n",
    "    for (startX, startY, endX, endY) in boxes:\n",
    "        startX = int(startX * rW)\n",
    "        startY = int(startY * rH)\n",
    "        endX = int(endX * rW)\n",
    "        endY = int(endY * rH)\n",
    "        r = orig[startY:endY, startX:endX]\n",
    "        configuration = (\"-l eng --oem 1 --psm 6\")\n",
    "        pytesseract.pytesseract.tesseract_cmd = r'C:\\\\Program Files\\\\Tesseract-OCR\\\\tesseract'\n",
    "        text = pytesseract.image_to_string(r, config=configuration)\n",
    "        results.append(((startX, startY, endX, endY), text))\n",
    "\n",
    "    orig_image = orig.copy()\n",
    "\n",
    "    for ((start_X, start_Y, end_X, end_Y), text) in results:\n",
    "        print(\"{}\\n\".format(text))\n",
    "        st.append(format(text))\n",
    "        text = \"\".join([x if ord(x) < 128 else \"\" for x in text]).strip()\n",
    "    list_1_string = ' '.join(st)\n",
    "    list_1_string = \" \".join(re.findall(r\"[a-zA-Z0-9]+\", list_1_string))\n",
    "    list_1_string = TextBlob(list_1_string.lower())\n",
    "    text = list_1_string.correct()\n",
    "    print(text)\n",
    "    return render_template('index.html', message = text)\n",
    "\n",
    "  \n",
    "if __name__ == '__main__':\n",
    "    app.run()"
   ]
  },
  {
   "cell_type": "code",
   "execution_count": null,
   "metadata": {},
   "outputs": [],
   "source": []
  }
 ],
 "metadata": {
  "kernelspec": {
   "display_name": "Python 3",
   "language": "python",
   "name": "python3"
  },
  "language_info": {
   "codemirror_mode": {
    "name": "ipython",
    "version": 3
   },
   "file_extension": ".py",
   "mimetype": "text/x-python",
   "name": "python",
   "nbconvert_exporter": "python",
   "pygments_lexer": "ipython3",
   "version": "3.6.7"
  }
 },
 "nbformat": 4,
 "nbformat_minor": 2
}
